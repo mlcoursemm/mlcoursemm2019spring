{
 "cells": [
  {
   "cell_type": "code",
   "execution_count": 1,
   "metadata": {},
   "outputs": [],
   "source": [
    "from sklearn.datasets import load_breast_cancer\n",
    "from sklearn.model_selection import train_test_split"
   ]
  },
  {
   "cell_type": "code",
   "execution_count": 2,
   "metadata": {},
   "outputs": [],
   "source": [
    "X, y = load_breast_cancer(return_X_y=True)"
   ]
  },
  {
   "cell_type": "code",
   "execution_count": 3,
   "metadata": {},
   "outputs": [
    {
     "name": "stdout",
     "output_type": "stream",
     "text": [
      "(455, 30) (455,) (114, 30) (114,)\n"
     ]
    }
   ],
   "source": [
    "trainX, testX, trainY, testY = train_test_split(X, y, random_state=42, test_size=0.2)\n",
    "print(trainX.shape, trainY.shape, testX.shape, testY.shape)"
   ]
  },
  {
   "cell_type": "code",
   "execution_count": 4,
   "metadata": {},
   "outputs": [
    {
     "name": "stdout",
     "output_type": "stream",
     "text": [
      "[1 0 0 1 1 0 0 0 1 1 1 0 1 0 1 0 1 1 1 0 0 1 0 1 1 1 1 1 1 0 1 1 1 1 1 1 0\n",
      " 1 0 1 1 0 1 1 1 1 1 1 1 1 0 0 1 1 1 1 1 0 0 1 1 0 0 1 1 1 0 0 1 1 0 0 1 0\n",
      " 1 1 1 0 1 1 0 1 0 0 0 0 0 0 1 1 1 1 1 1 1 1 0 0 1 0 0 1 0 0 1 1 1 0 1 1 0\n",
      " 1 1 0]\n"
     ]
    }
   ],
   "source": [
    "print(testY)"
   ]
  },
  {
   "cell_type": "markdown",
   "metadata": {},
   "source": [
    "## Linear SVM"
   ]
  },
  {
   "cell_type": "code",
   "execution_count": 5,
   "metadata": {},
   "outputs": [
    {
     "name": "stdout",
     "output_type": "stream",
     "text": [
      "[1 0 0 1 1 0 0 0 1 1 1 0 1 1 1 0 1 1 1 0 1 1 0 1 1 1 1 1 1 0 1 1 1 1 1 1 0\n",
      " 1 0 1 1 0 1 1 1 1 1 1 1 1 0 0 1 1 1 1 1 0 1 1 1 0 0 1 1 1 0 0 1 1 1 0 1 1\n",
      " 1 1 1 1 1 1 0 1 1 0 0 1 1 0 1 1 1 1 1 1 1 1 0 0 1 0 0 1 0 0 1 1 1 0 1 1 0\n",
      " 1 1 0]\n"
     ]
    },
    {
     "name": "stderr",
     "output_type": "stream",
     "text": [
      "/Users/alex/Programming/pytenv/py3/lib/python3.7/site-packages/sklearn/svm/base.py:931: ConvergenceWarning: Liblinear failed to converge, increase the number of iterations.\n",
      "  \"the number of iterations.\", ConvergenceWarning)\n"
     ]
    }
   ],
   "source": [
    "from sklearn.svm import LinearSVC\n",
    "clf = LinearSVC(random_state=42).fit(trainX, trainY)\n",
    "out_y = clf.predict(testX)\n",
    "print(out_y)"
   ]
  },
  {
   "cell_type": "markdown",
   "metadata": {},
   "source": [
    "Можно посмотреть сами значения, по которым принимается решение (берется sign)"
   ]
  },
  {
   "cell_type": "code",
   "execution_count": 6,
   "metadata": {},
   "outputs": [
    {
     "name": "stdout",
     "output_type": "stream",
     "text": [
      "[  0.69199762  -4.38759904  -1.01912235   1.93128467   1.89234461\n",
      "  -3.2964059   -5.26378109  -0.40507223   1.70126381   1.27374216\n",
      "   1.18599942  -1.25734799   1.34757849   0.71183508   1.5975907\n",
      "  -0.0931177    1.58225202   1.88117675   1.37601957  -2.6630822\n",
      "   0.63153195   1.26480914  -3.93314904   1.40809652   1.47619635\n",
      "   2.06311363   1.71906575   1.58762732   1.54328865  -3.88333982\n",
      "   1.61655342   1.65903265   1.11010878   0.87730645   1.66028412\n",
      "   1.41409448  -1.00371193   1.22816212  -2.6784796    0.91130064\n",
      "   1.60156099  -0.93456134   1.87849568   1.27700492   1.75674449\n",
      "   1.08976397   1.63900489   1.15090368   1.07731746   1.67746488\n",
      "  -2.09635816  -3.38571881   1.38992968   1.76618642   1.84212336\n",
      "   1.08090589   1.68059145  -5.58415347   0.85295292   1.8812375\n",
      "   1.33741148  -2.65809531  -4.32228106   1.23188758   1.42241936\n",
      "   1.07108724  -1.67409264  -1.76794146   1.62165487   1.3786163\n",
      "   0.02198963  -2.02151827   1.52016319   0.73570675   0.98269703\n",
      "   1.66407969   1.11386601   0.52615012   1.46775822   1.54645981\n",
      "  -0.9525459    1.34676019   0.65319738  -4.30307439  -1.15092702\n",
      "   0.48107017   0.20521661  -2.07857954   1.82882935   1.51344997\n",
      "   1.18421614   1.00694626   1.01499903   1.3031594    1.70957936\n",
      "   1.45616033  -3.09235102  -2.50862498   1.87172908  -1.30467345\n",
      "  -1.95359287   1.86567599  -3.14184634  -0.93838521   0.68323629\n",
      "   0.94823331   1.4522158   -8.79910534   1.26883739   0.8080791\n",
      "  -1.48407701   1.57092397   0.64272291 -15.02194898]\n",
      "[ True  True  True  True  True  True  True  True  True  True  True  True\n",
      "  True  True  True  True  True  True  True  True  True  True  True  True\n",
      "  True  True  True  True  True  True  True  True  True  True  True  True\n",
      "  True  True  True  True  True  True  True  True  True  True  True  True\n",
      "  True  True  True  True  True  True  True  True  True  True  True  True\n",
      "  True  True  True  True  True  True  True  True  True  True  True  True\n",
      "  True  True  True  True  True  True  True  True  True  True  True  True\n",
      "  True  True  True  True  True  True  True  True  True  True  True  True\n",
      "  True  True  True  True  True  True  True  True  True  True  True  True\n",
      "  True  True  True  True  True  True]\n"
     ]
    }
   ],
   "source": [
    "import numpy as np\n",
    "scores = clf.decision_function(testX)\n",
    "print(scores)\n",
    "print((scores > 0).astype(np.int32) == out_y)"
   ]
  },
  {
   "cell_type": "markdown",
   "metadata": {},
   "source": [
    "Можно распечатать коэффициенты линейного классификатора и его свободный член"
   ]
  },
  {
   "cell_type": "code",
   "execution_count": 7,
   "metadata": {},
   "outputs": [
    {
     "name": "stdout",
     "output_type": "stream",
     "text": [
      "w = [[ 3.43911231e-02  1.94773546e-02  7.65612661e-02  2.75380706e-04\n",
      "  -6.25380147e-04 -4.17529562e-03 -5.63497625e-03 -2.30135205e-03\n",
      "  -8.68646191e-04 -1.64102330e-04  1.02674676e-03  6.46553280e-03\n",
      "  -6.54248109e-03 -9.10916795e-03 -2.66419626e-05 -1.01490971e-03\n",
      "  -1.24637205e-03 -3.27696470e-04 -2.14486359e-04 -7.67908469e-05\n",
      "   3.54632257e-02 -3.85380912e-02 -1.62523046e-02 -6.15154097e-03\n",
      "  -1.24146310e-03 -1.48087301e-02 -1.73480099e-02 -4.89012805e-03\n",
      "  -3.60320839e-03 -1.19254538e-03]]\n",
      "w0 = [0.00605701]\n"
     ]
    }
   ],
   "source": [
    "print('w =', clf.coef_)\n",
    "print('w0 =', clf.intercept_)"
   ]
  },
  {
   "cell_type": "code",
   "execution_count": 8,
   "metadata": {},
   "outputs": [
    {
     "name": "stdout",
     "output_type": "stream",
     "text": [
      "Linear score: 0.9210526315789473\n"
     ]
    }
   ],
   "source": [
    "out_score = clf.score(testX, testY)\n",
    "print('Linear score:', out_score)"
   ]
  },
  {
   "cell_type": "markdown",
   "metadata": {},
   "source": [
    "## Kernel SVM"
   ]
  },
  {
   "cell_type": "code",
   "execution_count": 9,
   "metadata": {},
   "outputs": [
    {
     "name": "stdout",
     "output_type": "stream",
     "text": [
      "[1 0 0 1 1 0 0 0 1 1 1 0 1 0 1 0 1 1 1 0 1 1 0 1 1 1 1 1 1 0 1 1 1 1 1 1 0\n",
      " 1 0 1 1 0 1 1 1 1 1 1 1 1 0 0 1 1 1 1 1 0 0 1 1 0 0 1 1 1 0 0 1 1 0 0 1 0\n",
      " 1 1 1 1 1 1 0 1 1 0 0 0 0 0 1 1 1 1 1 1 1 1 0 0 1 0 0 1 0 0 1 1 1 0 1 1 0\n",
      " 1 0 0]\n"
     ]
    }
   ],
   "source": [
    "from sklearn.svm import SVC\n",
    "clf = SVC(random_state=42, C=1.0, kernel='poly', degree=3, gamma='scale').fit(trainX, trainY)\n",
    "out_y = clf.predict(testX)\n",
    "print(out_y)"
   ]
  },
  {
   "cell_type": "code",
   "execution_count": 10,
   "metadata": {},
   "outputs": [
    {
     "name": "stdout",
     "output_type": "stream",
     "text": [
      "Poly score: 0.9649122807017544\n"
     ]
    }
   ],
   "source": [
    "out_score = clf.score(testX, testY)\n",
    "print('Poly score:', out_score)"
   ]
  },
  {
   "cell_type": "markdown",
   "metadata": {},
   "source": [
    "## См. также"
   ]
  },
  {
   "cell_type": "markdown",
   "metadata": {},
   "source": [
    "* **LibSVM** - https://www.csie.ntu.edu.tw/~cjlin/libsvm/ - с++/Java реализация SVM общего вида со множеством интерфейсов в сторонних ЯП\n",
    "* **LibLinear** - https://www.csie.ntu.edu.tw/~cjlin/liblinear/ - версия LibSVM исключительно для линейного ядра (работает в этом случае гораздо быстрее)"
   ]
  },
  {
   "cell_type": "code",
   "execution_count": null,
   "metadata": {},
   "outputs": [],
   "source": []
  }
 ],
 "metadata": {
  "kernelspec": {
   "display_name": "Python 3",
   "language": "python",
   "name": "python3"
  },
  "language_info": {
   "codemirror_mode": {
    "name": "ipython",
    "version": 3
   },
   "file_extension": ".py",
   "mimetype": "text/x-python",
   "name": "python",
   "nbconvert_exporter": "python",
   "pygments_lexer": "ipython3",
   "version": "3.7.2"
  }
 },
 "nbformat": 4,
 "nbformat_minor": 2
}
