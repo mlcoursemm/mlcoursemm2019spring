{
 "cells": [
  {
   "cell_type": "code",
   "execution_count": 1,
   "metadata": {},
   "outputs": [],
   "source": [
    "from sklearn.datasets import load_breast_cancer\n",
    "from sklearn.model_selection import train_test_split"
   ]
  },
  {
   "cell_type": "code",
   "execution_count": 2,
   "metadata": {},
   "outputs": [],
   "source": [
    "X, y = load_breast_cancer(return_X_y=True)"
   ]
  },
  {
   "cell_type": "code",
   "execution_count": 3,
   "metadata": {},
   "outputs": [
    {
     "name": "stdout",
     "output_type": "stream",
     "text": [
      "(455, 30) (455,) (114, 30) (114,)\n"
     ]
    }
   ],
   "source": [
    "trainX, testX, trainY, testY = train_test_split(X, y, random_state=42, test_size=0.2)\n",
    "print(trainX.shape, trainY.shape, testX.shape, testY.shape)"
   ]
  },
  {
   "cell_type": "code",
   "execution_count": 4,
   "metadata": {},
   "outputs": [
    {
     "name": "stdout",
     "output_type": "stream",
     "text": [
      "[1 0 0 1 1 0 0 0 1 1 1 0 1 0 1 0 1 1 1 0 0 1 0 1 1 1 1 1 1 0 1 1 1 1 1 1 0\n",
      " 1 0 1 1 0 1 1 1 1 1 1 1 1 0 0 1 1 1 1 1 0 0 1 1 0 0 1 1 1 0 0 1 1 0 0 1 0\n",
      " 1 1 1 0 1 1 0 1 0 0 0 0 0 0 1 1 1 1 1 1 1 1 0 0 1 0 0 1 0 0 1 1 1 0 1 1 0\n",
      " 1 1 0]\n"
     ]
    }
   ],
   "source": [
    "print(testY)"
   ]
  },
  {
   "cell_type": "markdown",
   "metadata": {},
   "source": [
    "## Bagging"
   ]
  },
  {
   "cell_type": "code",
   "execution_count": 6,
   "metadata": {},
   "outputs": [],
   "source": [
    "from sklearn.ensemble import BaggingClassifier"
   ]
  },
  {
   "cell_type": "code",
   "execution_count": 41,
   "metadata": {},
   "outputs": [
    {
     "data": {
      "text/plain": [
       "BaggingClassifier(base_estimator=None, bootstrap=True,\n",
       "         bootstrap_features=False, max_features=1.0, max_samples=1.0,\n",
       "         n_estimators=10, n_jobs=-1, oob_score=False, random_state=42,\n",
       "         verbose=0, warm_start=False)"
      ]
     },
     "execution_count": 41,
     "metadata": {},
     "output_type": "execute_result"
    }
   ],
   "source": [
    "bg = BaggingClassifier(base_estimator=None, n_estimators=10, n_jobs=-1, random_state=42)\n",
    "bg.fit(trainX, trainY)"
   ]
  },
  {
   "cell_type": "code",
   "execution_count": 43,
   "metadata": {},
   "outputs": [
    {
     "name": "stdout",
     "output_type": "stream",
     "text": [
      "[1 0 0 1 1 0 0 0 0 1 1 0 1 0 1 0 1 1 1 0 1 1 0 1 1 1 1 1 1 0 1 1 1 1 1 1 0\n",
      " 1 0 1 1 0 1 1 1 1 1 1 1 1 0 0 1 1 1 1 1 0 0 1 1 0 0 1 1 1 0 0 1 1 0 0 1 0\n",
      " 1 1 1 1 1 1 0 1 1 0 0 0 0 0 1 1 1 1 1 1 1 1 0 0 1 0 0 1 0 0 1 1 1 0 0 1 0\n",
      " 1 1 0]\n",
      "Bagging (10 tree) score: 0.956140350877193\n"
     ]
    }
   ],
   "source": [
    "out_y = bg.predict(testX) # предсказываем классы\n",
    "print(out_y)\n",
    "out_score = bg.score(testX, testY) # считаем качество классификации\n",
    "print('Bagging (10 tree) score:', out_score)"
   ]
  },
  {
   "cell_type": "code",
   "execution_count": 44,
   "metadata": {},
   "outputs": [
    {
     "name": "stdout",
     "output_type": "stream",
     "text": [
      "Bagging (100 tree) score: 0.956140350877193\n"
     ]
    }
   ],
   "source": [
    "bg = BaggingClassifier(base_estimator=None, n_estimators=100, n_jobs=-1, random_state=42).fit(trainX, trainY)\n",
    "print('Bagging (100 tree) score:', bg.score(testX, testY))"
   ]
  },
  {
   "cell_type": "code",
   "execution_count": 45,
   "metadata": {},
   "outputs": [],
   "source": [
    "from sklearn.svm import LinearSVC\n",
    "clf = LinearSVC(random_state=42)"
   ]
  },
  {
   "cell_type": "code",
   "execution_count": 46,
   "metadata": {},
   "outputs": [
    {
     "name": "stdout",
     "output_type": "stream",
     "text": [
      "Bagging (10 svm) score: 0.8859649122807017\n"
     ]
    }
   ],
   "source": [
    "bg = BaggingClassifier(base_estimator=clf, n_estimators=10, n_jobs=-1, random_state=42).fit(trainX, trainY)\n",
    "print('Bagging (10 svm) score:', bg.score(testX, testY))"
   ]
  },
  {
   "cell_type": "code",
   "execution_count": 47,
   "metadata": {},
   "outputs": [
    {
     "name": "stdout",
     "output_type": "stream",
     "text": [
      "Bagging (100 svm) score: 0.9385964912280702\n"
     ]
    }
   ],
   "source": [
    "bg = BaggingClassifier(base_estimator=clf, n_estimators=100, n_jobs=-1, random_state=42).fit(trainX, trainY)\n",
    "print('Bagging (100 svm) score:', bg.score(testX, testY))"
   ]
  },
  {
   "cell_type": "markdown",
   "metadata": {},
   "source": [
    "## AdaBoost"
   ]
  },
  {
   "cell_type": "code",
   "execution_count": 49,
   "metadata": {},
   "outputs": [],
   "source": [
    "from sklearn.ensemble import AdaBoostClassifier"
   ]
  },
  {
   "cell_type": "code",
   "execution_count": 72,
   "metadata": {},
   "outputs": [
    {
     "name": "stdout",
     "output_type": "stream",
     "text": [
      "AdaBoost (10 tree) score: 0.9824561403508771\n"
     ]
    }
   ],
   "source": [
    "ada = AdaBoostClassifier(base_estimator=None, n_estimators=10, random_state=42).fit(trainX, trainY)\n",
    "print('AdaBoost (10 tree) score:', ada.score(testX, testY))"
   ]
  },
  {
   "cell_type": "code",
   "execution_count": 77,
   "metadata": {},
   "outputs": [
    {
     "data": {
      "text/plain": [
       "Text(0, 0.5, 'Accuracy')"
      ]
     },
     "execution_count": 77,
     "metadata": {},
     "output_type": "execute_result"
    },
    {
     "data": {
      "image/png": "[encoded data removed]",
      "text/plain": [
       "<Figure size 432x288 with 1 Axes>"
      ]
     },
     "metadata": {
      "needs_background": "light"
     },
     "output_type": "display_data"
    }
   ],
   "source": [
    "s_hist = list(ada.staged_score(testX, testY)) # посмотрим на историю обучения\n",
    "import matplotlib.pyplot as plt \n",
    "%matplotlib inline \n",
    "plt.plot(s_hist)\n",
    "plt.xlabel('Boosting iteration')\n",
    "plt.ylabel('Accuracy')"
   ]
  },
  {
   "cell_type": "code",
   "execution_count": 60,
   "metadata": {},
   "outputs": [
    {
     "name": "stdout",
     "output_type": "stream",
     "text": [
      "AdaBoost (100 tree) score: 0.9736842105263158\n",
      "Overfit!\n"
     ]
    }
   ],
   "source": [
    "ada = AdaBoostClassifier(base_estimator=None, n_estimators=100, random_state=42).fit(trainX, trainY)\n",
    "print('AdaBoost (100 tree) score:', ada.score(testX, testY))\n",
    "print(\"Overfit!\")"
   ]
  },
  {
   "cell_type": "code",
   "execution_count": 78,
   "metadata": {},
   "outputs": [],
   "source": [
    "from sklearn.linear_model import LogisticRegression\n",
    "clf = LogisticRegression(random_state=42, solver='liblinear')"
   ]
  },
  {
   "cell_type": "code",
   "execution_count": 79,
   "metadata": {},
   "outputs": [
    {
     "name": "stdout",
     "output_type": "stream",
     "text": [
      "AdaBoost (10 logr) score: 0.956140350877193\n"
     ]
    }
   ],
   "source": [
    "ada = AdaBoostClassifier(base_estimator=clf, n_estimators=10, random_state=42).fit(trainX, trainY)\n",
    "print('AdaBoost (10 logr) score:', ada.score(testX, testY))"
   ]
  },
  {
   "cell_type": "code",
   "execution_count": 80,
   "metadata": {},
   "outputs": [
    {
     "name": "stdout",
     "output_type": "stream",
     "text": [
      "AdaBoost (100 logr) score: 0.9649122807017544\n"
     ]
    }
   ],
   "source": [
    "ada = AdaBoostClassifier(base_estimator=clf, n_estimators=100, random_state=42).fit(trainX, trainY)\n",
    "print('AdaBoost (100 logr) score:', ada.score(testX, testY))"
   ]
  },
  {
   "cell_type": "code",
   "execution_count": 81,
   "metadata": {},
   "outputs": [
    {
     "name": "stdout",
     "output_type": "stream",
     "text": [
      "AdaBoost (1000 logr) score: 0.9649122807017544\n"
     ]
    }
   ],
   "source": [
    "ada = AdaBoostClassifier(base_estimator=clf, n_estimators=1000, random_state=42).fit(trainX, trainY)\n",
    "print('AdaBoost (1000 logr) score:', ada.score(testX, testY))"
   ]
  },
  {
   "cell_type": "markdown",
   "metadata": {},
   "source": [
    "## Gradient Boosting"
   ]
  },
  {
   "cell_type": "code",
   "execution_count": 85,
   "metadata": {},
   "outputs": [],
   "source": [
    "from sklearn.ensemble import GradientBoostingClassifier"
   ]
  },
  {
   "cell_type": "code",
   "execution_count": 86,
   "metadata": {},
   "outputs": [
    {
     "name": "stdout",
     "output_type": "stream",
     "text": [
      "Gradient Boosting (10 tree) score: 0.956140350877193\n"
     ]
    }
   ],
   "source": [
    "gb = GradientBoostingClassifier(learning_rate=0.1, n_estimators=10, random_state=42).fit(trainX, trainY)\n",
    "print('Gradient Boosting (10 tree) score:', gb.score(testX, testY))"
   ]
  },
  {
   "cell_type": "code",
   "execution_count": 87,
   "metadata": {},
   "outputs": [
    {
     "name": "stdout",
     "output_type": "stream",
     "text": [
      "Gradient Boosting (100 tree) score: 0.956140350877193\n"
     ]
    }
   ],
   "source": [
    "gb = GradientBoostingClassifier(learning_rate=0.1, n_estimators=100, random_state=42).fit(trainX, trainY)\n",
    "print('Gradient Boosting (100 tree) score:', gb.score(testX, testY))"
   ]
  },
  {
   "cell_type": "markdown",
   "metadata": {},
   "source": [
    "## XGBoost"
   ]
  },
  {
   "cell_type": "code",
   "execution_count": 90,
   "metadata": {},
   "outputs": [
    {
     "name": "stdout",
     "output_type": "stream",
     "text": [
      "Collecting xgboost\n",
      "\u001b[?25l  Downloading https://files.pythonhosted.org/packages/2e/bd/ad3a963b630fa3ee72d1a672fd207263fa0a18113688273afe8298293535/xgboost-0.82.tar.gz (665kB)\n",
      "\u001b[K    100% |████████████████████████████████| 675kB 3.4MB/s ta 0:00:011\n",
      "\u001b[?25hRequirement already satisfied: numpy in /Users/alex/Programming/pytenv/py3/lib/python3.7/site-packages (from xgboost) (1.16.1)\n",
      "Requirement already satisfied: scipy in /Users/alex/Programming/pytenv/py3/lib/python3.7/site-packages (from xgboost) (1.2.0)\n",
      "Building wheels for collected packages: xgboost\n",
      "  Building wheel for xgboost (setup.py) ... \u001b[?25ldone\n",
      "\u001b[?25h  Stored in directory: /Users/alex/Library/Caches/pip/wheels/5d/ea/e9/4aef52d7294badf6bc26728a73d3e001c38e07f7dc3722c5eb\n",
      "Successfully built xgboost\n",
      "Installing collected packages: xgboost\n",
      "Successfully installed xgboost-0.82\n",
      "\u001b[33mYou are using pip version 19.0.1, however version 19.1 is available.\n",
      "You should consider upgrading via the 'pip install --upgrade pip' command.\u001b[0m\n"
     ]
    }
   ],
   "source": [
    "!pip install xgboost"
   ]
  },
  {
   "cell_type": "code",
   "execution_count": 91,
   "metadata": {},
   "outputs": [],
   "source": [
    "from xgboost import XGBClassifier"
   ]
  },
  {
   "cell_type": "code",
   "execution_count": 93,
   "metadata": {},
   "outputs": [
    {
     "name": "stdout",
     "output_type": "stream",
     "text": [
      "XGB (10 tree) score: 0.956140350877193\n"
     ]
    }
   ],
   "source": [
    "xgb = XGBClassifier(learning_rate=0.1, n_estimators=10, n_jobs=-1).fit(trainX, trainY)\n",
    "print('XGB (10 tree) score:', xgb.score(testX, testY))"
   ]
  },
  {
   "cell_type": "code",
   "execution_count": 96,
   "metadata": {},
   "outputs": [
    {
     "name": "stdout",
     "output_type": "stream",
     "text": [
      "XGB (100 tree) score: 0.9649122807017544\n"
     ]
    }
   ],
   "source": [
    "xgb = XGBClassifier(learning_rate=0.1, n_estimators=100, n_jobs=-1).fit(trainX, trainY)\n",
    "print('XGB (100 tree) score:', xgb.score(testX, testY))"
   ]
  },
  {
   "cell_type": "code",
   "execution_count": 95,
   "metadata": {},
   "outputs": [
    {
     "name": "stdout",
     "output_type": "stream",
     "text": [
      "XGB (1000 tree) score: 0.9736842105263158\n"
     ]
    }
   ],
   "source": [
    "xgb = XGBClassifier(learning_rate=0.1, n_estimators=1000, n_jobs=-1).fit(trainX, trainY)\n",
    "print('XGB (1000 tree) score:', xgb.score(testX, testY))"
   ]
  },
  {
   "cell_type": "code",
   "execution_count": 98,
   "metadata": {},
   "outputs": [
    {
     "name": "stdout",
     "output_type": "stream",
     "text": [
      "XGB (100000 tree) score: 0.9736842105263158\n"
     ]
    }
   ],
   "source": [
    "xgb = XGBClassifier(learning_rate=0.1, n_estimators=100000, n_jobs=-1).fit(trainX, trainY)\n",
    "print('XGB (100000 tree) score:', xgb.score(testX, testY))"
   ]
  },
  {
   "cell_type": "markdown",
   "metadata": {},
   "source": [
    "## CatBoost"
   ]
  },
  {
   "cell_type": "code",
   "execution_count": 102,
   "metadata": {},
   "outputs": [
    {
     "name": "stdout",
     "output_type": "stream",
     "text": [
      "Collecting catboost\n",
      "\u001b[?25l  Downloading https://files.pythonhosted.org/packages/97/81/0af439a6357933bd4ae2c1bded77bebd42198da92e8f0c132e6b60783bf1/catboost-0.14.2-cp37-none-macosx_10_6_intel.macosx_10_9_intel.macosx_10_9_x86_64.macosx_10_10_intel.macosx_10_10_x86_64.whl (8.0MB)\n",
      "\u001b[K    100% |████████████████████████████████| 8.0MB 1.9MB/s ta 0:00:011\n",
      "\u001b[?25hRequirement already satisfied: numpy>=1.11.1 in /Users/alex/Programming/pytenv/py3/lib/python3.7/site-packages (from catboost) (1.16.1)\n",
      "Collecting enum34 (from catboost)\n",
      "  Downloading https://files.pythonhosted.org/packages/af/42/cb9355df32c69b553e72a2e28daee25d1611d2c0d9c272aa1d34204205b2/enum34-1.1.6-py3-none-any.whl\n",
      "Requirement already satisfied: six in /Users/alex/Programming/pytenv/py3/lib/python3.7/site-packages (from catboost) (1.12.0)\n",
      "Requirement already satisfied: pandas>=0.19.1 in /Users/alex/Programming/pytenv/py3/lib/python3.7/site-packages (from catboost) (0.24.1)\n",
      "Collecting graphviz (from catboost)\n",
      "  Downloading https://files.pythonhosted.org/packages/1f/e2/ef2581b5b86625657afd32030f90cf2717456c1d2b711ba074bf007c0f1a/graphviz-0.10.1-py2.py3-none-any.whl\n",
      "Requirement already satisfied: python-dateutil>=2.5.0 in /Users/alex/Programming/pytenv/py3/lib/python3.7/site-packages (from pandas>=0.19.1->catboost) (2.8.0)\n",
      "Requirement already satisfied: pytz>=2011k in /Users/alex/Programming/pytenv/py3/lib/python3.7/site-packages (from pandas>=0.19.1->catboost) (2018.9)\n",
      "Installing collected packages: enum34, graphviz, catboost\n",
      "Successfully installed catboost-0.14.2 enum34-1.1.6 graphviz-0.10.1\n",
      "\u001b[33mYou are using pip version 19.0.1, however version 19.1 is available.\n",
      "You should consider upgrading via the 'pip install --upgrade pip' command.\u001b[0m\n"
     ]
    }
   ],
   "source": [
    "!pip install catboost"
   ]
  },
  {
   "cell_type": "code",
   "execution_count": 103,
   "metadata": {},
   "outputs": [],
   "source": [
    "from catboost import CatBoostClassifier"
   ]
  },
  {
   "cell_type": "code",
   "execution_count": 107,
   "metadata": {},
   "outputs": [
    {
     "name": "stdout",
     "output_type": "stream",
     "text": [
      "Learning rate set to 0.5\n",
      "0:\tlearn: 0.2269327\ttotal: 83.9ms\tremaining: 755ms\n",
      "1:\tlearn: 0.1709999\ttotal: 129ms\tremaining: 514ms\n",
      "2:\tlearn: 0.1230784\ttotal: 173ms\tremaining: 403ms\n",
      "3:\tlearn: 0.0986998\ttotal: 242ms\tremaining: 363ms\n",
      "4:\tlearn: 0.0863845\ttotal: 287ms\tremaining: 287ms\n",
      "5:\tlearn: 0.0832428\ttotal: 331ms\tremaining: 221ms\n",
      "6:\tlearn: 0.0744292\ttotal: 374ms\tremaining: 160ms\n",
      "7:\tlearn: 0.0587910\ttotal: 417ms\tremaining: 104ms\n",
      "8:\tlearn: 0.0492131\ttotal: 473ms\tremaining: 52.6ms\n",
      "9:\tlearn: 0.0414105\ttotal: 539ms\tremaining: 0us\n",
      "CB (10 tree) score: 0.9649122807017544\n"
     ]
    }
   ],
   "source": [
    "cb = CatBoostClassifier(n_estimators=10, random_state=42).fit(trainX, trainY)\n",
    "print('CB (10 tree) score:', cb.score(testX, testY))"
   ]
  },
  {
   "cell_type": "code",
   "execution_count": 108,
   "metadata": {},
   "outputs": [
    {
     "name": "stdout",
     "output_type": "stream",
     "text": [
      "Learning rate set to 0.104314\n",
      "0:\tlearn: 0.5347815\ttotal: 92ms\tremaining: 9.11s\n",
      "1:\tlearn: 0.4518249\ttotal: 138ms\tremaining: 6.75s\n",
      "2:\tlearn: 0.3641087\ttotal: 182ms\tremaining: 5.88s\n",
      "3:\tlearn: 0.3065524\ttotal: 251ms\tremaining: 6.03s\n",
      "4:\tlearn: 0.2526143\ttotal: 298ms\tremaining: 5.66s\n",
      "5:\tlearn: 0.2198175\ttotal: 341ms\tremaining: 5.35s\n",
      "6:\tlearn: 0.1959248\ttotal: 386ms\tremaining: 5.13s\n",
      "7:\tlearn: 0.1775122\ttotal: 428ms\tremaining: 4.92s\n",
      "8:\tlearn: 0.1605013\ttotal: 484ms\tremaining: 4.89s\n",
      "9:\tlearn: 0.1490967\ttotal: 543ms\tremaining: 4.89s\n",
      "10:\tlearn: 0.1379241\ttotal: 606ms\tremaining: 4.9s\n",
      "11:\tlearn: 0.1246053\ttotal: 654ms\tremaining: 4.8s\n",
      "12:\tlearn: 0.1143870\ttotal: 725ms\tremaining: 4.86s\n",
      "13:\tlearn: 0.1046069\ttotal: 775ms\tremaining: 4.76s\n",
      "14:\tlearn: 0.1008537\ttotal: 825ms\tremaining: 4.67s\n",
      "15:\tlearn: 0.0947220\ttotal: 876ms\tremaining: 4.6s\n",
      "16:\tlearn: 0.0898061\ttotal: 923ms\tremaining: 4.5s\n",
      "17:\tlearn: 0.0849487\ttotal: 977ms\tremaining: 4.45s\n",
      "18:\tlearn: 0.0819844\ttotal: 1.02s\tremaining: 4.36s\n",
      "19:\tlearn: 0.0782575\ttotal: 1.07s\tremaining: 4.27s\n",
      "20:\tlearn: 0.0760236\ttotal: 1.11s\tremaining: 4.18s\n",
      "21:\tlearn: 0.0718845\ttotal: 1.16s\tremaining: 4.1s\n",
      "22:\tlearn: 0.0688764\ttotal: 1.25s\tremaining: 4.17s\n",
      "23:\tlearn: 0.0655609\ttotal: 1.33s\tremaining: 4.22s\n",
      "24:\tlearn: 0.0633699\ttotal: 1.44s\tremaining: 4.32s\n",
      "25:\tlearn: 0.0612275\ttotal: 1.55s\tremaining: 4.42s\n",
      "26:\tlearn: 0.0596354\ttotal: 1.65s\tremaining: 4.46s\n",
      "27:\tlearn: 0.0577796\ttotal: 1.75s\tremaining: 4.49s\n",
      "28:\tlearn: 0.0557171\ttotal: 1.84s\tremaining: 4.5s\n",
      "29:\tlearn: 0.0540168\ttotal: 1.88s\tremaining: 4.4s\n",
      "30:\tlearn: 0.0532458\ttotal: 1.96s\tremaining: 4.37s\n",
      "31:\tlearn: 0.0524705\ttotal: 2.01s\tremaining: 4.27s\n",
      "32:\tlearn: 0.0507212\ttotal: 2.09s\tremaining: 4.25s\n",
      "33:\tlearn: 0.0494067\ttotal: 2.14s\tremaining: 4.15s\n",
      "34:\tlearn: 0.0477757\ttotal: 2.18s\tremaining: 4.05s\n",
      "35:\tlearn: 0.0468910\ttotal: 2.22s\tremaining: 3.95s\n",
      "36:\tlearn: 0.0438993\ttotal: 2.29s\tremaining: 3.89s\n",
      "37:\tlearn: 0.0433843\ttotal: 2.34s\tremaining: 3.82s\n",
      "38:\tlearn: 0.0418492\ttotal: 2.4s\tremaining: 3.75s\n",
      "39:\tlearn: 0.0410830\ttotal: 2.44s\tremaining: 3.67s\n",
      "40:\tlearn: 0.0401280\ttotal: 2.49s\tremaining: 3.59s\n",
      "41:\tlearn: 0.0387474\ttotal: 2.58s\tremaining: 3.56s\n",
      "42:\tlearn: 0.0379306\ttotal: 2.65s\tremaining: 3.51s\n",
      "43:\tlearn: 0.0375002\ttotal: 2.7s\tremaining: 3.44s\n",
      "44:\tlearn: 0.0370929\ttotal: 2.75s\tremaining: 3.36s\n",
      "45:\tlearn: 0.0363206\ttotal: 2.81s\tremaining: 3.3s\n",
      "46:\tlearn: 0.0354847\ttotal: 2.91s\tremaining: 3.28s\n",
      "47:\tlearn: 0.0351608\ttotal: 3s\tremaining: 3.25s\n",
      "48:\tlearn: 0.0348527\ttotal: 3.09s\tremaining: 3.22s\n",
      "49:\tlearn: 0.0344221\ttotal: 3.19s\tremaining: 3.19s\n",
      "50:\tlearn: 0.0341765\ttotal: 3.35s\tremaining: 3.21s\n",
      "51:\tlearn: 0.0339006\ttotal: 3.44s\tremaining: 3.17s\n",
      "52:\tlearn: 0.0334341\ttotal: 3.52s\tremaining: 3.12s\n",
      "53:\tlearn: 0.0324877\ttotal: 3.61s\tremaining: 3.07s\n",
      "54:\tlearn: 0.0322419\ttotal: 3.65s\tremaining: 2.99s\n",
      "55:\tlearn: 0.0312423\ttotal: 3.69s\tremaining: 2.9s\n",
      "56:\tlearn: 0.0308487\ttotal: 3.74s\tremaining: 2.82s\n",
      "57:\tlearn: 0.0308276\ttotal: 3.78s\tremaining: 2.74s\n",
      "58:\tlearn: 0.0299485\ttotal: 3.84s\tremaining: 2.67s\n",
      "59:\tlearn: 0.0295122\ttotal: 3.89s\tremaining: 2.59s\n",
      "60:\tlearn: 0.0287994\ttotal: 3.94s\tremaining: 2.52s\n",
      "61:\tlearn: 0.0277803\ttotal: 3.99s\tremaining: 2.45s\n",
      "62:\tlearn: 0.0271641\ttotal: 4.08s\tremaining: 2.4s\n",
      "63:\tlearn: 0.0267187\ttotal: 4.13s\tremaining: 2.32s\n",
      "64:\tlearn: 0.0260498\ttotal: 4.17s\tremaining: 2.25s\n",
      "65:\tlearn: 0.0258216\ttotal: 4.22s\tremaining: 2.17s\n",
      "66:\tlearn: 0.0249466\ttotal: 4.27s\tremaining: 2.1s\n",
      "67:\tlearn: 0.0240213\ttotal: 4.32s\tremaining: 2.03s\n",
      "68:\tlearn: 0.0238467\ttotal: 4.37s\tremaining: 1.96s\n",
      "69:\tlearn: 0.0227478\ttotal: 4.41s\tremaining: 1.89s\n",
      "70:\tlearn: 0.0224176\ttotal: 4.45s\tremaining: 1.82s\n",
      "71:\tlearn: 0.0220396\ttotal: 4.5s\tremaining: 1.75s\n",
      "72:\tlearn: 0.0216055\ttotal: 4.55s\tremaining: 1.68s\n",
      "73:\tlearn: 0.0214642\ttotal: 4.61s\tremaining: 1.62s\n",
      "74:\tlearn: 0.0210067\ttotal: 4.67s\tremaining: 1.55s\n",
      "75:\tlearn: 0.0202670\ttotal: 4.72s\tremaining: 1.49s\n",
      "76:\tlearn: 0.0196697\ttotal: 4.82s\tremaining: 1.44s\n",
      "77:\tlearn: 0.0191922\ttotal: 4.86s\tremaining: 1.37s\n",
      "78:\tlearn: 0.0188297\ttotal: 4.91s\tremaining: 1.3s\n",
      "79:\tlearn: 0.0181877\ttotal: 4.95s\tremaining: 1.24s\n",
      "80:\tlearn: 0.0176494\ttotal: 4.99s\tremaining: 1.17s\n",
      "81:\tlearn: 0.0170626\ttotal: 5.05s\tremaining: 1.11s\n",
      "82:\tlearn: 0.0168108\ttotal: 5.1s\tremaining: 1.04s\n",
      "83:\tlearn: 0.0166935\ttotal: 5.15s\tremaining: 980ms\n",
      "84:\tlearn: 0.0165572\ttotal: 5.19s\tremaining: 916ms\n",
      "85:\tlearn: 0.0163113\ttotal: 5.27s\tremaining: 858ms\n",
      "86:\tlearn: 0.0162244\ttotal: 5.32s\tremaining: 795ms\n",
      "87:\tlearn: 0.0155334\ttotal: 5.37s\tremaining: 732ms\n",
      "88:\tlearn: 0.0154228\ttotal: 5.41s\tremaining: 669ms\n",
      "89:\tlearn: 0.0152083\ttotal: 5.46s\tremaining: 607ms\n",
      "90:\tlearn: 0.0148635\ttotal: 5.55s\tremaining: 549ms\n",
      "91:\tlearn: 0.0146341\ttotal: 5.62s\tremaining: 489ms\n",
      "92:\tlearn: 0.0145682\ttotal: 5.68s\tremaining: 428ms\n",
      "93:\tlearn: 0.0145237\ttotal: 5.74s\tremaining: 366ms\n",
      "94:\tlearn: 0.0141513\ttotal: 5.8s\tremaining: 305ms\n",
      "95:\tlearn: 0.0136066\ttotal: 5.84s\tremaining: 243ms\n",
      "96:\tlearn: 0.0133914\ttotal: 5.88s\tremaining: 182ms\n",
      "97:\tlearn: 0.0131526\ttotal: 5.93s\tremaining: 121ms\n",
      "98:\tlearn: 0.0128911\ttotal: 5.97s\tremaining: 60.3ms\n",
      "99:\tlearn: 0.0126152\ttotal: 6.03s\tremaining: 0us\n",
      "CB (100 tree) score: 0.9649122807017544\n"
     ]
    }
   ],
   "source": [
    "cb = CatBoostClassifier(n_estimators=100, random_state=42).fit(trainX, trainY)\n",
    "print('CB (100 tree) score:', cb.score(testX, testY))"
   ]
  }
 ],
 "metadata": {
  "kernelspec": {
   "display_name": "Python 3",
   "language": "python",
   "name": "python3"
  },
  "language_info": {
   "codemirror_mode": {
    "name": "ipython",
    "version": 3
   },
   "file_extension": ".py",
   "mimetype": "text/x-python",
   "name": "python",
   "nbconvert_exporter": "python",
   "pygments_lexer": "ipython3",
   "version": "3.7.2"
  }
 },
 "nbformat": 4,
 "nbformat_minor": 2
}
