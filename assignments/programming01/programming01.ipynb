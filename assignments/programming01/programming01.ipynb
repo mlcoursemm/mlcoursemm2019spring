{
 "cells": [
  {
   "cell_type": "markdown",
   "metadata": {},
   "source": [
    "# Практическое задание №1"
   ]
  },
  {
   "cell_type": "markdown",
   "metadata": {},
   "source": [
    "ФИО: Иванов Иван Иванович\n",
    "\n",
    "вуз: МГУ \n",
    "\n",
    "факультет: механико-математический\n",
    "\n",
    "курс: 3\n",
    "\n",
    "кафедра (если есть): МаТИС\n",
    "\n",
    "научный руководитель (если есть): Иванов И.И."
   ]
  },
  {
   "cell_type": "markdown",
   "metadata": {},
   "source": [
    "### Задача: Оценка качества вина по его характеристикам\n",
    "### Метрика качества: Accuracy"
   ]
  },
  {
   "cell_type": "markdown",
   "metadata": {},
   "source": [
    "#### 1. Считывание данных (2 балла)\n",
    "\n",
    "Удобным и самым часто распространнёным форматом для чтения данных является формат csv (comma-separated values).\n",
    "Как правило для считывания и препроцессинга данных используется пакет pandas.\n",
    "Установить его можно следующей командой"
   ]
  },
  {
   "cell_type": "code",
   "execution_count": null,
   "metadata": {},
   "outputs": [],
   "source": [
    "! pip install pandas"
   ]
  },
  {
   "cell_type": "code",
   "execution_count": 1,
   "metadata": {},
   "outputs": [],
   "source": [
    "import pandas as pd\n",
    "train_csv_path = 'train.csv'\n",
    "test_csv_path = 'test.csv'"
   ]
  },
  {
   "cell_type": "markdown",
   "metadata": {},
   "source": [
    "Считывание csv-файла просисходит при помощи функции pandas.read_csv\n",
    "Рекомендуем более подробно ознакомиться с аргументами функции тут https://pandas.pydata.org/pandas-docs/stable/reference/api/pandas.read_csv.html"
   ]
  },
  {
   "cell_type": "code",
   "execution_count": 2,
   "metadata": {},
   "outputs": [],
   "source": [
    "train_df = pd.read_csv(train_csv_path)\n",
    "test_df = pd.read_csv(test_csv_path)"
   ]
  },
  {
   "cell_type": "code",
   "execution_count": null,
   "metadata": {},
   "outputs": [],
   "source": [
    "type(train_df) "
   ]
  },
  {
   "cell_type": "code",
   "execution_count": null,
   "metadata": {},
   "outputs": [],
   "source": [
    "train_df.info()"
   ]
  },
  {
   "cell_type": "code",
   "execution_count": null,
   "metadata": {},
   "outputs": [],
   "source": [
    "train_df.describe()"
   ]
  },
  {
   "cell_type": "markdown",
   "metadata": {},
   "source": [
    "Тип возвращаемого объекта  - DataFrame. Поскольку изучение pandas не является основной целью этого задания. То сразу перейдум к numpy массивам."
   ]
  },
  {
   "cell_type": "code",
   "execution_count": 8,
   "metadata": {},
   "outputs": [
    {
     "name": "stdout",
     "output_type": "stream",
     "text": [
      "(<type 'numpy.ndarray'>, <type 'numpy.ndarray'>)\n",
      "((1279, 12), dtype('float64'), (320, 12), dtype('float64'))\n"
     ]
    }
   ],
   "source": [
    "train = train_df.values\n",
    "test = test_df.values\n",
    "print(type(test), type(train))\n",
    "print(train.shape, train.dtype, test.shape, test.dtype)"
   ]
  },
  {
   "cell_type": "code",
   "execution_count": 18,
   "metadata": {},
   "outputs": [
    {
     "name": "stdout",
     "output_type": "stream",
     "text": [
      "((1279, 11), (1279,), (320, 11), (320,))\n"
     ]
    }
   ],
   "source": [
    "# Последний столбец в массивах train и test - величина, которую мы должны предсказать. \n",
    "# Поэтому её надо выделить в отдельный массив.\n",
    "\n",
    "trainX = # ваш код\n",
    "trainY = # ваш код\n",
    "\n",
    "testX = # ваш код\n",
    "testY = # ваш код\n",
    "\n",
    "print(trainX.shape, trainY.shape, testX.shape, testY.shape)"
   ]
  },
  {
   "cell_type": "markdown",
   "metadata": {},
   "source": [
    "На данном шаге у вас должны быть готовы данные для обучения первой модели. "
   ]
  },
  {
   "cell_type": "code",
   "execution_count": null,
   "metadata": {},
   "outputs": [],
   "source": [
    "from sklearn.neighbors import KNeighborsClassifier\n",
    "from sklearn.metrics import accuracy_score\n",
    "\n",
    "baseline = KNeighborsClassifier(n_neighbors=1)\n",
    "baseline.fit(trainX, trainY)\n",
    "baseline_prediction = baseline.predict(testX)\n",
    "\n",
    "print('accuracy = %.2f' % accuracy_score(testY, baseline_prediction))"
   ]
  },
  {
   "cell_type": "markdown",
   "metadata": {},
   "source": [
    "Можно ли считать этот результат хорошим?\n",
    "Какую точность можно получить используя совсем простые модели:\n",
    "- случайный выбор ответа\n",
    "- константная модель\n",
    "?"
   ]
  },
  {
   "cell_type": "markdown",
   "metadata": {},
   "source": [
    "#### 2. Препроцессинг данных (3 балла)"
   ]
  },
  {
   "cell_type": "markdown",
   "metadata": {},
   "source": [
    "Одна из причин, почему метод ближайшего соседа не даёт хороших результатов, это наличие признаков разного масштаба. \n",
    "Поэтому признаки необходимо приводить к одному и тому же диапозону значений.\n",
    "Изучите раздел документации\n",
    "https://scikit-learn.org/stable/modules/preprocessing.html#preprocessing\n",
    "и попробуйте применить к данным все методы из раздела 4.3.1"
   ]
  },
  {
   "cell_type": "code",
   "execution_count": 47,
   "metadata": {},
   "outputs": [],
   "source": [
    "scaled_trainX =  #ваш код\n",
    "scaled_testX =  # ваш код\n"
   ]
  },
  {
   "cell_type": "code",
   "execution_count": 48,
   "metadata": {},
   "outputs": [
    {
     "name": "stdout",
     "output_type": "stream",
     "text": [
      "accuracy = 0.64\n"
     ]
    }
   ],
   "source": [
    "baseline = KNeighborsClassifier(n_neighbors=1)\n",
    "baseline.fit(scaled_trainX, trainY)\n",
    "baseline_prediction = baseline.predict(scaled_testX)\n",
    "\n",
    "print('accuracy = %.2f' % accuracy_score(testY, baseline_prediction))"
   ]
  },
  {
   "cell_type": "code",
   "execution_count": null,
   "metadata": {},
   "outputs": [],
   "source": []
  },
  {
   "cell_type": "markdown",
   "metadata": {},
   "source": [
    "#### 3. Подбор параметров для метода ближайшего соседа (5 баллов)"
   ]
  },
  {
   "cell_type": "markdown",
   "metadata": {},
   "source": [
    "1.Подберите лучшие параметры для метода ближайших соседей использую 5-fold кроссвалидацию.\n",
    "Изучите главы документации:\n",
    "https://scikit-learn.org/stable/modules/cross_validation.html#cross-validation\n",
    "https://scikit-learn.org/stable/modules/grid_search.html#grid-search\n"
   ]
  },
  {
   "cell_type": "code",
   "execution_count": null,
   "metadata": {},
   "outputs": [],
   "source": [
    "# ваш код"
   ]
  },
  {
   "cell_type": "markdown",
   "metadata": {},
   "source": [
    "После подбора оптимальных параметров обучите модель с этими параметрами на всем обучающей выборке и посмотрите качество на тесте."
   ]
  },
  {
   "cell_type": "code",
   "execution_count": null,
   "metadata": {},
   "outputs": [],
   "source": [
    "# ваш код"
   ]
  },
  {
   "cell_type": "markdown",
   "metadata": {},
   "source": [
    "#### 4. Линейная регрессия (4 балла)"
   ]
  },
  {
   "cell_type": "markdown",
   "metadata": {},
   "source": [
    "Напишите код функций для нахождения весов линейной регрессии (вспомните формулы из лекции 3), а также для применения этих весов (предсказание).\n",
    "\n",
    "Если эти функции будут правильно реализованы, то в дальнейшем можно будет применять класс MyLinearRegression со стандартным scikit-learn интерфейсом, в котором нас интересуют два метода: fit и predict."
   ]
  },
  {
   "cell_type": "code",
   "execution_count": null,
   "metadata": {},
   "outputs": [],
   "source": [
    "import numpy as np\n",
    "def solve_linear_regression(X, y):\n",
    "    # ваш код\n",
    "    # return weights, bias\n",
    "\n",
    "def make_prediction(weights, bias, testX):\n",
    "    #ваш код\n",
    "\n",
    "class MyLinearRegression():\n",
    "    def __init__(self,):\n",
    "        self.name = 'LinearRegression'\n",
    "    \n",
    "    def fit(self, X, Y):\n",
    "        self.weights, self.bias = solve_linear_regression(X, Y)\n",
    "        print(self.weights)\n",
    "        return self\n",
    "    \n",
    "    def predict(self, X):\n",
    "        return make_prediction(self.weights, self.bias, X)  "
   ]
  },
  {
   "cell_type": "markdown",
   "metadata": {},
   "source": [
    "Протестируйте ваш класс на предложенном датасете"
   ]
  },
  {
   "cell_type": "code",
   "execution_count": null,
   "metadata": {},
   "outputs": [],
   "source": [
    "baseline = MyLinearRegression()\n",
    "baseline.fit(scaled_trainX, trainY)\n",
    "baseline_prediction = baseline.predict(scaled_testX)\n",
    "# для подсчета точности необходимо сделать округление до ближайшего целого\n",
    "#ваш код"
   ]
  },
  {
   "cell_type": "markdown",
   "metadata": {},
   "source": [
    "Сравните результаты вашего класса и аналогичного из scikit-learn\n",
    "sklearn.linear_model.LinearRegression"
   ]
  },
  {
   "cell_type": "code",
   "execution_count": null,
   "metadata": {},
   "outputs": [],
   "source": [
    "#ваш код и заключение"
   ]
  },
  {
   "cell_type": "markdown",
   "metadata": {},
   "source": [
    "#### 5. Лучшая модель (3 балла )\n"
   ]
  },
  {
   "cell_type": "markdown",
   "metadata": {},
   "source": [
    "Попробуйте улучшить результат на тестовом датасете, используя все пройденные  до 15 марта  (первые 4 лекции) алгоритмы машинного обучения и любые методы препроцессинга и постпроцессинга. Если параметры не дефолтные, то  подбр параметров должен осуществлять путём кросс-валидации без привлечения тестового датасета."
   ]
  },
  {
   "cell_type": "code",
   "execution_count": null,
   "metadata": {},
   "outputs": [],
   "source": [
    "# ваш код "
   ]
  },
  {
   "cell_type": "code",
   "execution_count": null,
   "metadata": {},
   "outputs": [],
   "source": []
  }
 ],
 "metadata": {
  "kernelspec": {
   "display_name": "Python 2",
   "language": "python",
   "name": "python2"
  },
  "language_info": {
   "codemirror_mode": {
    "name": "ipython",
    "version": 2
   },
   "file_extension": ".py",
   "mimetype": "text/x-python",
   "name": "python",
   "nbconvert_exporter": "python",
   "pygments_lexer": "ipython2",
   "version": "2.7.12"
  }
 },
 "nbformat": 4,
 "nbformat_minor": 2
}
